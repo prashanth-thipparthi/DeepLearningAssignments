{
  "nbformat": 4,
  "nbformat_minor": 0,
  "metadata": {
    "kernelspec": {
      "display_name": "Python 3",
      "language": "python",
      "name": "python3"
    },
    "language_info": {
      "codemirror_mode": {
        "name": "ipython",
        "version": 3
      },
      "file_extension": ".py",
      "mimetype": "text/x-python",
      "name": "python",
      "nbconvert_exporter": "python",
      "pygments_lexer": "ipython3",
      "version": "3.7.6"
    },
    "colab": {
      "name": "Copy of self-assessment.ipynb",
      "provenance": [],
      "collapsed_sections": [],
      "include_colab_link": true
    }
  },
  "cells": [
    {
      "cell_type": "markdown",
      "metadata": {
        "id": "view-in-github",
        "colab_type": "text"
      },
      "source": [
        "<a href=\"https://colab.research.google.com/github/prashanth-thipparthi/DeepLearningAssignments/blob/master/self_assessment.ipynb\" target=\"_parent\"><img src=\"https://colab.research.google.com/assets/colab-badge.svg\" alt=\"Open In Colab\"/></a>"
      ]
    },
    {
      "cell_type": "markdown",
      "metadata": {
        "id": "JkSob1oDFzNr",
        "colab_type": "text"
      },
      "source": [
        "# Task\n",
        "\n",
        "[Matrix multiplication](https://en.wikipedia.org/wiki/Matrix_multiplication) is a fundamental linear algebraic operation, working knowledge of which is a prerequisite to understanding modern neural networks. In this assignment, you will implement matrix multiplication in pure Python (`python_matmul`) and in Python using NumPy (`numpy_matmul`). Skeletal versions of the two functions are provided in the included Python source file.\n",
        "\n",
        "This assignment is an opportunity for you to assess your preparedness for the course. It does not count towards your final grade."
      ]
    },
    {
      "cell_type": "code",
      "metadata": {
        "id": "e8rkO64aFzNu",
        "colab_type": "code",
        "colab": {}
      },
      "source": [
        "import numpy as np"
      ],
      "execution_count": 0,
      "outputs": []
    },
    {
      "cell_type": "code",
      "metadata": {
        "id": "mRw8KKymFzNz",
        "colab_type": "code",
        "colab": {}
      },
      "source": [
        "def python_matmul(X, Y):\n",
        "    \"\"\"\n",
        "    Multiply 2-dimensional numpy arrays using pure Python.\n",
        "\n",
        "    Parameters\n",
        "    ----------\n",
        "    X : list\n",
        "        A list of M elements, each of which is an N-element list.\n",
        "    Y : list\n",
        "        A list of N elements, each of which is a K-element list.\n",
        "\n",
        "    Returns\n",
        "    ----------\n",
        "    A list of M elements, each of which is a K-element list.\n",
        "    \"\"\"\n",
        "    if not isinstance(X, list):\n",
        "        raise ValueError('X must be list')\n",
        "    if not isinstance(Y, list):\n",
        "        raise ValueError('Y must be list')\n",
        "    if not isinstance(X[0], list):\n",
        "        raise ValueError('X must be 2-dimensional')\n",
        "    if not isinstance(Y[0], list):\n",
        "        raise ValueError('Y must be 2-dimensional')\n",
        "    if not len(X[0]) == len(Y):\n",
        "        raise ValueError('Column length of X must equal row length of Y')\n",
        "\n",
        "    Z = [[0 for x in range(len(X))] for y in range(len(Y[0])) ]\n",
        "    for i in range(len(X)):\n",
        "      for j in range(len(Y[0])):\n",
        "        Z[i][j] = 0\n",
        "        for k in range(len(Y)):\n",
        "          Z[i][j] += X[i][k] * Y[k][j]\n",
        "    return Z"
      ],
      "execution_count": 0,
      "outputs": []
    },
    {
      "cell_type": "code",
      "metadata": {
        "id": "A-_kXTbR_Hah",
        "colab_type": "code",
        "outputId": "c5dc66f6-08d7-4fa0-aacc-17195cf141b7",
        "colab": {
          "base_uri": "https://localhost:8080/",
          "height": 343
        }
      },
      "source": [
        "#Python Matmul Example\n",
        "#X = [[1,2],[4,5]]\n",
        "#Y = [[1,1],[1,1]]\n",
        "#z = python_matmul(X,Y)\n",
        "\n",
        "#Numpy MatMul Example\n",
        "X = np.array([[1,2],[4,5]])\n",
        "Y = np.array([[1,1],[1,1]])\n",
        "z = python_matmul(X,Y)\n",
        "z"
      ],
      "execution_count": 0,
      "outputs": [
        {
          "output_type": "error",
          "ename": "ValueError",
          "evalue": "ignored",
          "traceback": [
            "\u001b[0;31m---------------------------------------------------------------------------\u001b[0m",
            "\u001b[0;31mValueError\u001b[0m                                Traceback (most recent call last)",
            "\u001b[0;32m<ipython-input-5-88bb159a92f7>\u001b[0m in \u001b[0;36m<module>\u001b[0;34m()\u001b[0m\n\u001b[1;32m      1\u001b[0m \u001b[0mX\u001b[0m \u001b[0;34m=\u001b[0m \u001b[0mnp\u001b[0m\u001b[0;34m.\u001b[0m\u001b[0marray\u001b[0m\u001b[0;34m(\u001b[0m\u001b[0;34m[\u001b[0m\u001b[0;34m[\u001b[0m\u001b[0;36m1\u001b[0m\u001b[0;34m,\u001b[0m\u001b[0;36m2\u001b[0m\u001b[0;34m]\u001b[0m\u001b[0;34m,\u001b[0m\u001b[0;34m[\u001b[0m\u001b[0;36m4\u001b[0m\u001b[0;34m,\u001b[0m\u001b[0;36m5\u001b[0m\u001b[0;34m]\u001b[0m\u001b[0;34m]\u001b[0m\u001b[0;34m)\u001b[0m\u001b[0;34m\u001b[0m\u001b[0;34m\u001b[0m\u001b[0m\n\u001b[1;32m      2\u001b[0m \u001b[0mY\u001b[0m \u001b[0;34m=\u001b[0m \u001b[0mnp\u001b[0m\u001b[0;34m.\u001b[0m\u001b[0marray\u001b[0m\u001b[0;34m(\u001b[0m\u001b[0;34m[\u001b[0m\u001b[0;34m[\u001b[0m\u001b[0;36m1\u001b[0m\u001b[0;34m,\u001b[0m\u001b[0;36m1\u001b[0m\u001b[0;34m]\u001b[0m\u001b[0;34m,\u001b[0m\u001b[0;34m[\u001b[0m\u001b[0;36m1\u001b[0m\u001b[0;34m,\u001b[0m\u001b[0;36m1\u001b[0m\u001b[0;34m]\u001b[0m\u001b[0;34m]\u001b[0m\u001b[0;34m)\u001b[0m\u001b[0;34m\u001b[0m\u001b[0;34m\u001b[0m\u001b[0m\n\u001b[0;32m----> 3\u001b[0;31m \u001b[0mz\u001b[0m \u001b[0;34m=\u001b[0m \u001b[0mpython_matmul\u001b[0m\u001b[0;34m(\u001b[0m\u001b[0mX\u001b[0m\u001b[0;34m,\u001b[0m\u001b[0mY\u001b[0m\u001b[0;34m)\u001b[0m\u001b[0;34m\u001b[0m\u001b[0;34m\u001b[0m\u001b[0m\n\u001b[0m\u001b[1;32m      4\u001b[0m \u001b[0mz\u001b[0m\u001b[0;34m\u001b[0m\u001b[0;34m\u001b[0m\u001b[0m\n",
            "\u001b[0;32m<ipython-input-4-70e8e82c0412>\u001b[0m in \u001b[0;36mpython_matmul\u001b[0;34m(X, Y)\u001b[0m\n\u001b[1;32m     15\u001b[0m     \"\"\"\n\u001b[1;32m     16\u001b[0m     \u001b[0;32mif\u001b[0m \u001b[0;32mnot\u001b[0m \u001b[0misinstance\u001b[0m\u001b[0;34m(\u001b[0m\u001b[0mX\u001b[0m\u001b[0;34m,\u001b[0m \u001b[0mlist\u001b[0m\u001b[0;34m)\u001b[0m\u001b[0;34m:\u001b[0m\u001b[0;34m\u001b[0m\u001b[0;34m\u001b[0m\u001b[0m\n\u001b[0;32m---> 17\u001b[0;31m         \u001b[0;32mraise\u001b[0m \u001b[0mValueError\u001b[0m\u001b[0;34m(\u001b[0m\u001b[0;34m'X must be list'\u001b[0m\u001b[0;34m)\u001b[0m\u001b[0;34m\u001b[0m\u001b[0;34m\u001b[0m\u001b[0m\n\u001b[0m\u001b[1;32m     18\u001b[0m     \u001b[0;32mif\u001b[0m \u001b[0;32mnot\u001b[0m \u001b[0misinstance\u001b[0m\u001b[0;34m(\u001b[0m\u001b[0mY\u001b[0m\u001b[0;34m,\u001b[0m \u001b[0mlist\u001b[0m\u001b[0;34m)\u001b[0m\u001b[0;34m:\u001b[0m\u001b[0;34m\u001b[0m\u001b[0;34m\u001b[0m\u001b[0m\n\u001b[1;32m     19\u001b[0m         \u001b[0;32mraise\u001b[0m \u001b[0mValueError\u001b[0m\u001b[0;34m(\u001b[0m\u001b[0;34m'Y must be list'\u001b[0m\u001b[0;34m)\u001b[0m\u001b[0;34m\u001b[0m\u001b[0;34m\u001b[0m\u001b[0m\n",
            "\u001b[0;31mValueError\u001b[0m: X must be list"
          ]
        }
      ]
    },
    {
      "cell_type": "code",
      "metadata": {
        "id": "vgZzRH9eFzN2",
        "colab_type": "code",
        "colab": {}
      },
      "source": [
        "import numpy as np\n",
        "\n",
        "def numpy_matmul(X, Y):\n",
        "    \"\"\"\n",
        "    Multiply 2-dimensional numpy arrays using PEP-0465 infix operator.\n",
        "\n",
        "    Parameters\n",
        "    ----------\n",
        "    X : np.ndarray\n",
        "        An MxN array.\n",
        "    Y : np.ndarray\n",
        "        An NxK array.\n",
        "\n",
        "    Returns\n",
        "    ----------\n",
        "    An MxK array.\n",
        "    \"\"\"\n",
        "    \n",
        "    if not isinstance(X, np.ndarray):\n",
        "        raise ValueError('X must be ndarray')\n",
        "    if not isinstance(Y, np.ndarray):\n",
        "        raise ValueError('Y must be ndarray')\n",
        "    if not X.ndim == 2:\n",
        "        raise ValueError('X must be 2-dimensional')\n",
        "    if not Y.ndim == 2:\n",
        "        raise ValueError('Y must be 2-dimensional')\n",
        "    if X.shape[1] != Y.shape[0]:\n",
        "        raise ValueError(\n",
        "            'Columns of X ({:d}) must equal rows of Y ({:d}'.format(\n",
        "                X.shape[1], Y.shape[0]))\n",
        "\n",
        "    return np.dot(X,Y)"
      ],
      "execution_count": 0,
      "outputs": []
    },
    {
      "cell_type": "markdown",
      "metadata": {
        "id": "DcCqkrEAFzN5",
        "colab_type": "text"
      },
      "source": [
        "# Survey\n",
        "Briefly describe your (research) interest in deep learning/machine learning in the cell below."
      ]
    },
    {
      "cell_type": "markdown",
      "metadata": {
        "id": "n9sKBS7iFzN6",
        "colab_type": "text"
      },
      "source": [
        "I'm interested in the research areas of recommender systems and also the reinforcement learning techniques of the deep learning."
      ]
    }
  ]
}